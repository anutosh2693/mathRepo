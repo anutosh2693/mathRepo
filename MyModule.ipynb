{
 "cells": [
  {
   "cell_type": "code",
   "execution_count": 11,
   "metadata": {},
   "outputs": [],
   "source": [
    "## Program to find all possible combinations (repitition allowed) using any number of digits given as an input...\n",
    "\n",
    "def Possible_Combinations(*args):\n",
    "    # Iterate on each number between max_num and min_num using above two digits (444,777)\n",
    "    l1 = [] \n",
    "    \n",
    "    for i in range(int(str(min(args))*len(args)), int(str(max(args))*len(args))+1): \n",
    "        str1 = '' # It will be used to create a combination using the given digits\n",
    "        for c in str(i): # Compare each digit of the number with each element in args\n",
    "            if c in str(args): \n",
    "                str1 += c\n",
    "            if len(str1)==len(args): \n",
    "                l1.append(int(str1))\n",
    "    return l1\n",
    "\n",
    "# start = datetime.datetime.now()\n",
    "# print(Possible_Combinations(4,5,7))\n",
    "# end = datetime.datetime.now()\n",
    "# end-start"
   ]
  },
  {
   "cell_type": "code",
   "execution_count": 12,
   "metadata": {},
   "outputs": [],
   "source": [
    "## Program to find all possible combinations (repitition not allowed) using any number of digits given as an input...\n",
    "\n",
    "def Possible_Combinations_Without_Repitition(*args):\n",
    "    #Sort the args tuple in both ascending and descending order to get max and min numbers\n",
    "    #Calculate minimum and maximum possible numbers using all digits exactly the number of times as in the args\n",
    "    min_str = ''\n",
    "    for i in sorted(args):\n",
    "        min_str += str(i)\n",
    "    max_str = ''\n",
    "    for i in sorted(args)[::-1]:\n",
    "        max_str += str(i)\n",
    "    \n",
    "    l1=[]\n",
    "    # Iterate on each number between max_num and min_num using above two digits (123,321)\n",
    "    for i in range(int(min_str), int(max_str)+1): \n",
    "        possible_combination_str = '' # It will be used to create a combination using the given digits\n",
    "        l2 = [str(i) for i in args]\n",
    "        for c in str(i): # Compare each digit of the number with each element in args\n",
    "            if c in str(l2):\n",
    "                possible_combination_str += c\n",
    "                l2.remove(c)\n",
    "            else:\n",
    "                break\n",
    "            if len(possible_combination_str)==len(args): \n",
    "                l1.append(int(possible_combination_str))\n",
    "    return l1\n",
    "\n",
    "# start=datetime.datetime.now()\n",
    "# print(Possible_Combinations_Without_Repitition(4,3,7))\n",
    "# end = datetime.datetime.now()\n",
    "# end-start"
   ]
  },
  {
   "cell_type": "code",
   "execution_count": 13,
   "metadata": {},
   "outputs": [],
   "source": [
    "## Program to find LCM of n natural numbers...\n",
    "\n",
    "from functools import reduce\n",
    "\n",
    "## Function to check whether a number is prime or not...\n",
    "\n",
    "def isPrime(num):\n",
    "    if num==2:\n",
    "        return True\n",
    "    for i in range(2,num):\n",
    "        if num%i==0:\n",
    "            return False\n",
    "    return True\n",
    "\n",
    "## Function to calculate the LCM of n natural numbers...\n",
    "\n",
    "def LCM(*args):\n",
    "    l1 = list(map(lambda x:isPrime(x), list(args))) ## Boolean list\n",
    "    if all(l1):    ## If all the elements in args are prime numbers.\n",
    "        lcm = reduce(lambda a,b:a*b, set(args)) ## LCM will be product of all distinct arguments.\n",
    "        return lcm\n",
    "    else:   ## Keep multiplying the max number to 1 then 2 and 3 and upto the point where the lcm is divisible by all the elements in args.\n",
    "        counter = 1\n",
    "        while(True): \n",
    "            lcm = max(args)*counter\n",
    "            l2 = list(map(lambda a:lcm%a==0, list(args)))\n",
    "            if all(l2):\n",
    "                return lcm\n",
    "            else:\n",
    "                counter += 1\n",
    "                "
   ]
  },
  {
   "cell_type": "code",
   "execution_count": null,
   "metadata": {},
   "outputs": [],
   "source": [
    "## Function to remove outliers using Z-score method. Outliers in a normal distribution curve are the data points which lie\n",
    "## beyond 3Z on either side of the mean.\n",
    "\n",
    "def RemoveOutliersUsingZScore(df, col):\n",
    "    avg = df[col].mean()\n",
    "    zscore = df[col].std()\n",
    "    mn = avg - 3*zscore\n",
    "    mx = avg + 3*zscore\n",
    "    return df[~(df[col]<mn | df[col]>mx)]"
   ]
  },
  {
   "cell_type": "code",
   "execution_count": 3,
   "metadata": {},
   "outputs": [],
   "source": [
    "## Function to remove outliers using IQR (Inter Quantile Range) method. Outliers in a box plot are the data points which \n",
    "## lie outside upper and lower whisker.\n",
    "## Upper whisker is given by q3+1.5*IQR\n",
    "## Lower whisker is given by q1-1.5*IQR\n",
    "\n",
    "def RemoveOutliersUsingIQR(df, col):\n",
    "    q1 = df[col].quantile(0.25)\n",
    "    q3 = df[col].quantile(0.75)\n",
    "    IQR = q3-q1\n",
    "    return df[~((df[col]<(q1-1.5*IQR)) | df[col]>(q3+1.5*IQR))]"
   ]
  },
  {
   "cell_type": "code",
   "execution_count": null,
   "metadata": {},
   "outputs": [],
   "source": []
  }
 ],
 "metadata": {
  "kernelspec": {
   "display_name": "Python 3",
   "language": "python",
   "name": "python3"
  },
  "language_info": {
   "codemirror_mode": {
    "name": "ipython",
    "version": 3
   },
   "file_extension": ".py",
   "mimetype": "text/x-python",
   "name": "python",
   "nbconvert_exporter": "python",
   "pygments_lexer": "ipython3",
   "version": "3.7.3"
  }
 },
 "nbformat": 4,
 "nbformat_minor": 2
}
